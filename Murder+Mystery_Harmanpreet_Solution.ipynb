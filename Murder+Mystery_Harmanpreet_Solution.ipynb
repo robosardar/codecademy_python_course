{
 "cells": [
  {
   "cell_type": "markdown",
   "metadata": {},
   "source": [
    "# Preamble: A Brand New Jay\n",
    "\n",
    "After an eventful season on season 8 of *A Brand New Jay*, the 3 remaining contestants were invited to Jay Stacksby's private island for the last three episodes. When the day of filming the finale came Mr. Stacksby was found with one of his Professional Series 8-inch Chef Knives plunged through his heart! After the initial investigation highlighted that the film crew all lived in a separate house on the other side of the island, it was concluded that only the three contestants were near enough to Stacksby in order to commit a crime. At the scene of the crime, a letter was left. Here are the contents of that letter:\n",
    "\n",
    "> You may call me heartless, a killer, a monster, a murderer, but I'm still NOTHING compared to the villian that Jay was. This whole contest was a sham, an elaborate plot to shame the contestants and feed Jay's massive, massive ego. SURE you think you know him! You've seen him smiling for the cameras, laughing, joking, telling stories, waving his money around like a prop but off camera he was a sinister beast, a cruel cruel taskmaster, he treated all of us like slaves, like cattle, like animals! Do you remember Lindsay, she was the first to go, he called her such horrible things that she cried all night, keeping up all up, crying, crying, and more crying, he broke her with his words. I miss my former cast members, all of them very much. And we had to live with him, live in his home, live in his power, deal with his crazy demands. AND FOR WHAT! DID YOU KNOW THAT THE PRIZE ISN'T REAL? He never intended to marry one of us! The carrot on the stick was gone, all that was left was stick, he told us last night that we were all a terrible terrible disappointment and none of us would ever amount to anything, and that regardless of who won the contest he would never speak to any of us again! It's definitely the things like this you can feel in your gut how wrong he is! Well I showed him, he got what he deserved all right, I showed him, I showed him the person I am! I wasn't going to be pushed around any longer, and I wasn't going to let him go on pretending that he was some saint when all he was was a sick sick twisted man who deserved every bit of what he got. The fans need to know, Jay Stacksby is a vile amalgamation of all things evil and bad and the world is a better place without him.\n",
    "\n",
    "Pretty sinister stuff! Luckily, in addition to this bold-faced admission, we have the introduction letters of the three contestants. Maybe there is a way to use this information to determine who the author of this murder letter is?\n",
    "\n",
    "Myrtle Beech's introduction letter:\n",
    "> Salutations. My name? Myrtle. Myrtle Beech. I am a woman of simple tastes. I enjoy reading, thinking, and doing my taxes. I entered this competition because I want a serious relationship. I want a commitment. The last man I dated was too whimsical. He wanted to go on dates that had no plan. No end goal. Sometimes we would just end up wandering the streets after dinner. He called it a \"walk\". A \"walk\" with no destination. Can you imagine? I like every action I take to have a measurable effect. When I see a movie, I like to walk away with insights that I did not have before. When I take a bike ride, there better be a worthy destination at the end of the bike path. Jay seems frivolous at times. This worries me. However, it is my staunch belief that one does not make and keep money without having a modicum of discipline. As such, I am hopeful. I will now list three things I cannot live without. Water. Emery boards. Dogs. Thank you for the opportunity to introduce myself. I look forward to the competition. \n",
    "\n",
    "Lily Trebuchet's introduction letter:\n",
    "> Hi, I'm Lily Trebuchet from East Egg, Long Island. I love cats, hiking, and curling up under a warm blanket with a book. So they gave this little questionnaire to use for our bios so lets get started. What are some of my least favorite household chores? Dishes, oh yes it's definitely the dishes, I just hate doing them, don't you? Who is your favorite actor and why? Hmm, that's a hard one, but I think recently I'll have to go with Michael B. Jordan, every bit of that man is handsome, HANDSOME! Do you remember seeing him shirtless? I can't believe what he does for the cameras! Okay okay next question, what is your perfect date? Well it starts with a nice dinner at a delicious but small restaurant, you know like one of those places where the owner is in the back and comes out to talk to you and ask you how your meal was. My favorite form of art? Another hard one, but I think I'll have to go with music, music you can feel in your whole body and it is electrifying and best of all, you can dance to it! Okay final question, let's see, What are three things you cannot live without? Well first off, my beautiful, beautiful cat Jerry, he is my heart and spirit animal. Second is pasta, definitely pasta, and the third I think is my family, I love all of them very much and they support me in everything I do. I know Jay Stacksby is a handsome man and all of us want to be the first to walk down the aisle with him, but I think he might truly be the one for me. Okay that's it for the bio, I hope you have fun watching the show! \n",
    "\n",
    "Gregg T Fishy's introduction letter:\n",
    "\n",
    "> A good day to you all, I am Gregg T Fishy, of the Fishy Enterprise fortune. I am 37 years young. An adventurous spirit and I've never lost my sense of childlike wonder. I do love to be in the backyard gardening and I have the most extraordinary time when I'm fishing. Fishing for what, you might ask? Why, fishing for compliments of course! I have a stunning pair of radiant blue eyes. They will pierce the soul of anyone who dare gaze upon my countenance. I quite enjoy going on long jaunts through garden paths and short walks through greenhouses. I hope that Jay will be as absolutely interesting as he appears on the television. I find that he has some of the most curious tastes in style and humor. When I'm out and about I quite enjoy hearing tales that instill in my heart of hearts the fascination that beguiles my every day life. Every fiber of my being scintillates and vascillates with extreme pleasure during one of these charming anecdotes and significantly pleases my beautiful personage. I cannot wait to enjoy being on A Brand New Jay. It certainly seems like a grand time to explore life and love."
   ]
  },
  {
   "cell_type": "markdown",
   "metadata": {},
   "source": [
    "## Saving The Different Examples as Variables\n",
    "\n",
    "First let's create variables to hold the text data in! Save the muder note as a string in a variable called `murder_note`. Save Lily Trebuchet's introduction into `lily_trebuchet_intro`. Save Myrtle Beech's introduction into `myrtle_beech_intro`. Save Gregg T Fishy's introduction into `gregg_t_fishy_intro`."
   ]
  },
  {
   "cell_type": "code",
   "execution_count": 5,
   "metadata": {},
   "outputs": [],
   "source": [
    "murder_note = '''\n",
    "You may call me heartless, a killer, a monster, a murderer, but I'm still NOTHING compared to the villian that Jay was. This whole contest was a sham, an elaborate plot to shame the contestants and feed Jay's massive, massive ego. SURE you think you know him! You've seen him smiling for the cameras, laughing, joking, telling stories, waving his money around like a prop but off camera he was a sinister beast, a cruel cruel taskmaster, he treated all of us like slaves, like cattle, like animals! Do you remember Lindsay, she was the first to go, he called her such horrible things that she cried all night, keeping up all up, crying, crying, and more crying, he broke her with his words. I miss my former cast members, all of them very much. And we had to live with him, live in his home, live in his power, deal with his crazy demands. AND FOR WHAT! DID YOU KNOW THAT THE PRIZE ISN'T REAL? He never intended to marry one of us! The carrot on the stick was gone, all that was left was stick, he told us last night that we were all a terrible terrible disappointment and none of us would ever amount to anything, and that regardless of who won the contest he would never speak to any of us again! It's definitely the things like this you can feel in your gut how wrong he is! Well I showed him, he got what he deserved all right, I showed him, I showed him the person I am! I wasn't going to be pushed around any longer, and I wasn't going to let him go on pretending that he was some saint when all he was was a sick sick twisted man who deserved every bit of what he got. The fans need to know, Jay Stacksby is a vile amalgamation of all things evil and bad and the world is a better place without him.\n",
    "'''\n",
    "lily_trebuchet_intro = '''\n",
    "Hi, I'm Lily Trebuchet from East Egg, Long Island. I love cats, hiking, and curling up under a warm blanket with a book. So they gave this little questionnaire to use for our bios so lets get started. What are some of my least favorite household chores? Dishes, oh yes it's definitely the dishes, I just hate doing them, don't you? Who is your favorite actor and why? Hmm, that's a hard one, but I think recently I'll have to go with Michael B. Jordan, every bit of that man is handsome, HANDSOME! Do you remember seeing him shirtless? I can't believe what he does for the cameras! Okay okay next question, what is your perfect date? Well it starts with a nice dinner at a delicious but small restaurant, you know like one of those places where the owner is in the back and comes out to talk to you and ask you how your meal was. My favorite form of art? Another hard one, but I think I'll have to go with music, music you can feel in your whole body and it is electrifying and best of all, you can dance to it! Okay final question, let's see, What are three things you cannot live without? Well first off, my beautiful, beautiful cat Jerry, he is my heart and spirit animal. Second is pasta, definitely pasta, and the third I think is my family, I love all of them very much and they support me in everything I do. I know Jay Stacksby is a handsome man and all of us want to be the first to walk down the aisle with him, but I think he might truly be the one for me. Okay that's it for the bio, I hope you have fun watching the show!\n",
    "'''\n",
    "myrtle_beech_intro = '''\n",
    "Salutations. My name? Myrtle. Myrtle Beech. I am a woman of simple tastes. I enjoy reading, thinking, and doing my taxes. I entered this competition because I want a serious relationship. I want a commitment. The last man I dated was too whimsical. He wanted to go on dates that had no plan. No end goal. Sometimes we would just end up wandering the streets after dinner. He called it a \"walk\". A \"walk\" with no destination. Can you imagine? I like every action I take to have a measurable effect. When I see a movie, I like to walk away with insights that I did not have before. When I take a bike ride, there better be a worthy destination at the end of the bike path. Jay seems frivolous at times. This worries me. However, it is my staunch belief that one does not make and keep money without having a modicum of discipline. As such, I am hopeful. I will now list three things I cannot live without. Water. Emery boards. Dogs. Thank you for the opportunity to introduce myself. I look forward to the competition.\n",
    "'''\n",
    "gregg_t_fishy_intro = '''\n",
    "A good day to you all, I am Gregg T Fishy, of the Fishy Enterprise fortune. I am 37 years young. An adventurous spirit and I've never lost my sense of childlike wonder. I do love to be in the backyard gardening and I have the most extraordinary time when I'm fishing. Fishing for what, you might ask? Why, fishing for compliments of course! I have a stunning pair of radiant blue eyes. They will pierce the soul of anyone who dare gaze upon my countenance. I quite enjoy going on long jaunts through garden paths and short walks through greenhouses. I hope that Jay will be as absolutely interesting as he appears on the television. I find that he has some of the most curious tastes in style and humor. When I'm out and about I quite enjoy hearing tales that instill in my heart of hearts the fascination that beguiles my every day life. Every fiber of my being scintillates and vascillates with extreme pleasure during one of these charming anecdotes and significantly pleases my beautiful personage. I cannot wait to enjoy being on A Brand New Jay. It certainly seems like a grand time to explore life and love.\n",
    "'''"
   ]
  },
  {
   "cell_type": "markdown",
   "metadata": {},
   "source": [
    "## The First Indicator: Sentence Length\n",
    "\n",
    "Perhaps some meaningful data can first be gleaned from these text examples if we measure how long the average sentence length is. Different authors have different patterns of written speech, so this could be very useful in tracking down the killer.\n",
    "\n",
    "Write a function `get_average_sentence_length` that takes some `text` as an argument. This function should return the average length of a sentence in the text.\n",
    "\n",
    "Hint (highlight this hint in order to reveal it): \n",
    "<font color=\"white\">Use your knowledge of _string methods_ to create a list of all of the sentences in a text, called **sentences_in_text**. \n",
    "Further break up each **sentences_in_text** into a list of words and save the _length_ of that list of words to a new list that contains all the sentence lengths, called **sentence_lengths**. Take the average of all of the sentence lengths by adding them all together and dividing by the number of sentences (which should be the same as the length of the **sentence_lengths**).\n",
    "\n",
    "Remember sentences can end with more than one kind of punctuation, you might find it easiest to use **.replace()** so you only have to split on one punctuation mark. Remember **.replace()** doesn't modify the string itself, it returns a new string!</font>"
   ]
  },
  {
   "cell_type": "code",
   "execution_count": 91,
   "metadata": {},
   "outputs": [],
   "source": [
    "def get_average_sentence_length(text):\n",
    "    word_count = 0\n",
    "    sentence_count = 0\n",
    "    for i in text:\n",
    "        if i == ' ':\n",
    "            word_count += 1\n",
    "        elif i == '.' or i == '?' or i == '!':\n",
    "            sentence_count += 1\n",
    "    return int(word_count / sentence_count) \n",
    "\n"
   ]
  },
  {
   "cell_type": "markdown",
   "metadata": {},
   "source": [
    "## Creating The Definition for Our Model\n",
    "\n",
    "Now that we have a metric we want to save and data that is coupled with that metric, it might be time to create our data type. Let's define a class called `TextSample` with a constructor. The constructor should take two arguments: `text` and `author`. `text` should be saved as `self.raw_text`. Call `get_average_sentence_length` with the raw text and save it to `self.average_sentence_length`. You should save the author of the text as `self.author`.\n",
    "\n",
    "Additionally, define a string representation for the model. If you print a `TextSample` it should render:\n",
    " - The author's name\n",
    " - The average sentence length\n",
    " \n",
    "This will be your main class for the problem at hand. All later instruction to update `TextSample` should be done in the code block below. After updating `TextSample`, click on the `Cell` option in the Jupyter Notebook main menu above, then click `Run All` to rerun the cells from top to bottom. If you need to restart your Jupyter Notebook either run the cells below first or move the `TextSample` class definition & instantiation cells to the bottom."
   ]
  },
  {
   "cell_type": "code",
   "execution_count": 81,
   "metadata": {},
   "outputs": [],
   "source": [
    "class TextSample:\n",
    "     \n",
    "    def __init__(self, text, author):\n",
    "        self.raw_text = text\n",
    "        self.average_sentence_length = get_average_sentence_length(text)\n",
    "        self.author = author\n",
    "        self.prepared_text = prepared_text(text)\n",
    "        self.word_count_frequency = build_frequency_table(prepared_text(text))\n",
    "        self.ngram_frequency = build_frequency_table(ngram_creator(text))\n",
    "\n",
    "    def __repr__(self):\n",
    "        return 'The author : ' + self.author.title() + ', has an average sentence length of ' + str(round(self.average_sentence_length, 2)) + ' words.'\n",
    "\n"
   ]
  },
  {
   "cell_type": "markdown",
   "metadata": {},
   "source": [
    "### Creating our TextSample Instances\n",
    "\n",
    "Now create a `TextSample` object for each of the samples of text that we have.\n",
    " - `murderer_sample` for the murderer's note.\n",
    " - `lily_sample` for Lily Trebuchet's note.\n",
    " - `myrtle_sample` for Myrtle Beech's note.\n",
    " - `gregg_sample` for Gregg T Fishy's note.\n",
    " \n",
    "Print out each one after instantiating them."
   ]
  },
  {
   "cell_type": "code",
   "execution_count": 80,
   "metadata": {},
   "outputs": [
    {
     "ename": "NameError",
     "evalue": "name 'TextSample' is not defined",
     "output_type": "error",
     "traceback": [
      "\u001b[0;31m---------------------------------------------------------------------------\u001b[0m",
      "\u001b[0;31mNameError\u001b[0m                                 Traceback (most recent call last)",
      "\u001b[0;32m<ipython-input-80-de871bddbd88>\u001b[0m in \u001b[0;36m<module>\u001b[0;34m\u001b[0m\n\u001b[0;32m----> 1\u001b[0;31m \u001b[0mmurderer_sample\u001b[0m \u001b[0;34m=\u001b[0m \u001b[0mTextSample\u001b[0m\u001b[0;34m(\u001b[0m\u001b[0mmurder_note\u001b[0m\u001b[0;34m,\u001b[0m \u001b[0;34m'murderer'\u001b[0m\u001b[0;34m)\u001b[0m\u001b[0;34m\u001b[0m\u001b[0m\n\u001b[0m\u001b[1;32m      2\u001b[0m \u001b[0;31m#print(murderer_sample)\u001b[0m\u001b[0;34m\u001b[0m\u001b[0;34m\u001b[0m\u001b[0m\n\u001b[1;32m      3\u001b[0m \u001b[0mlily_sample\u001b[0m \u001b[0;34m=\u001b[0m \u001b[0mTextSample\u001b[0m\u001b[0;34m(\u001b[0m\u001b[0mlily_trebuchet_intro\u001b[0m\u001b[0;34m,\u001b[0m \u001b[0;34m'lily trebuchet'\u001b[0m\u001b[0;34m)\u001b[0m\u001b[0;34m\u001b[0m\u001b[0m\n\u001b[1;32m      4\u001b[0m \u001b[0;31m#print(lily_sample)\u001b[0m\u001b[0;34m\u001b[0m\u001b[0;34m\u001b[0m\u001b[0m\n\u001b[1;32m      5\u001b[0m \u001b[0mmyrtle_sample\u001b[0m \u001b[0;34m=\u001b[0m \u001b[0mTextSample\u001b[0m\u001b[0;34m(\u001b[0m\u001b[0mmyrtle_beech_intro\u001b[0m\u001b[0;34m,\u001b[0m \u001b[0;34m'myrtle beech'\u001b[0m\u001b[0;34m)\u001b[0m\u001b[0;34m\u001b[0m\u001b[0m\n",
      "\u001b[0;31mNameError\u001b[0m: name 'TextSample' is not defined"
     ]
    }
   ],
   "source": [
    "murderer_sample = TextSample(murder_note, 'murderer')\n",
    "#print(murderer_sample)\n",
    "lily_sample = TextSample(lily_trebuchet_intro, 'lily trebuchet')\n",
    "#print(lily_sample)\n",
    "myrtle_sample = TextSample(myrtle_beech_intro, 'myrtle beech')\n",
    "#print(myrtle_sample)\n",
    "gregg_sample = TextSample(gregg_t_fishy_intro, 'gregg t fishy')\n",
    "#print(gregg_sample)"
   ]
  },
  {
   "cell_type": "markdown",
   "metadata": {},
   "source": [
    "## Cleaning Our Data\n",
    "\n",
    "We want to compare the word choice and usage between the samples, but sentences make our text data fairly messy. In order to analyze the different messages fairly, we'll need to remove all the punctuation and uppercase letters from the samples.\n",
    "\n",
    "Create a function called `prepare_text` that takes a single parameter `text`, makes the text entirely lowercase, removes all the punctuation and returns a list of the words in the text in order.\n",
    "\n",
    "For example: `\"Where did you go, friend? We nearly saw each other.\"` would become `['where', 'did', 'you', 'go', 'friend', 'we', 'nearly', 'saw', 'each', 'other']`."
   ]
  },
  {
   "cell_type": "code",
   "execution_count": 69,
   "metadata": {},
   "outputs": [],
   "source": [
    "def prepare_text(text):\n",
    "    puncs = ['.', ',', '!', '?']\n",
    "    text = text.split()\n",
    "    new_text = []\n",
    "    for word in text:\n",
    "        for element in word:\n",
    "            if element in puncs:\n",
    "                word = word.strip(element) \n",
    "        new_text.append(word.lower())\n",
    "    return new_text\n",
    "\n",
    "#print(prepare_text(murder_note))"
   ]
  },
  {
   "cell_type": "markdown",
   "metadata": {},
   "source": [
    "Update the constructor for `TextSample` to save the prepared text as `self.prepared_text`."
   ]
  },
  {
   "cell_type": "markdown",
   "metadata": {},
   "source": [
    "## Building A Frequency Table\n",
    "\n",
    "Now we want to see which words were most frequently used in each of the samples. Create a function called `build_frequency_table`. It takes in a list called `corpus` and creates a dictionary called `frequency_table`. For every element in `corpus` the value `frequency_table[element]` should be equal to the number of times that element appears in `corpus`. For example the input `['do', 'you', 'see', 'what', 'i', 'see']` would create the frequency table `{'what': 1, 'you': 1, 'see' 2, 'i': 1}`."
   ]
  },
  {
   "cell_type": "code",
   "execution_count": 13,
   "metadata": {},
   "outputs": [
    {
     "name": "stdout",
     "output_type": "stream",
     "text": [
      "{'carrot': 1, 'the': 3, 'compared': 1, 'terrible': 2, 'taskmaster': 1, 'deserved': 3, 'shame': 1, 'broke': 1, 'first': 1, 'heartless': 1, 'he': 4, 'power': 1, 'for': 3, 'cameras': 1, 'camera': 1, 'definitely': 1, 'home': 1, 'an': 1, 'sinister': 1, 'cast': 1, 'disappointment': 1, 'him': 2, 'live': 2, 'what': 3, 'wrong': 1, \"you've\": 1, 'again': 1, 'animals': 1, 'whole': 1, 'sham': 1, 'bit': 1, 'was': 5, 'any': 3, 'such': 1, 'lindsay': 1, 'plot': 1, 'feed': 1, 'off': 1, 'cattle': 1, 'your': 1, 'like': 4, 'fans': 1, 'am': 1, 'can': 1, 'feel': 1, 'miss': 1, 'left': 1, 'slaves': 1, \"i'm\": 1, 'none': 1, 'better': 1, 'bad': 1, 'ego': 1, 'ever': 1, 'twisted': 1, 'gone': 1, 'did': 1, 'called': 1, 'need': 1, 'me': 1, 'us': 3, 'told': 1, 'on': 4, 'smiling': 1, 'do': 1, 'pretending': 1, 'regardless': 1, 'murderer': 1, 'won': 1, 'contestants': 1, 'go': 3, 'stick': 3, 'evil': 1, 'how': 1, 'showed': 6, 'were': 1, 'real': 1, 'keeping': 1, 'a': 3, 'seen': 1, 'is': 2, 'all': 3, 'we': 4, 'joking': 1, 'man': 1, 'world': 1, 'remember': 1, 'may': 1, 'speak': 1, 'marry': 1, 'cried': 1, 'more': 1, 'contest': 3, 'i': 3, 'every': 1, 'but': 2, 'his': 3, 'jay': 4, 'her': 2, 'intended': 1, 'with': 2, 'would': 5, 'beast': 1, 'well': 1, 'she': 3, 'treated': 1, 'them': 1, 'horrible': 1, 'very': 1, \"wasn't\": 4, 'members': 1, 'prop': 1, 'former': 1, 'sick': 2, 'when': 1, 'killer': 1, 'waving': 1, 'to': 2, 'pushed': 1, 'demands': 1, 'who': 2, 'gut': 1, 'be': 1, 'know': 3, 'amalgamation': 1, \"it's\": 1, 'one': 1, 'cruel': 2, 'monster': 1, 'of': 2, 'going': 5, 'massive': 2, 'money': 1, 'longer': 1, 'prize': 1, 'amount': 1, \"isn't\": 1, \"jay's\": 1, 'night': 2, 'place': 1, 'this': 5, 'think': 1, 'stories': 1, 'last': 1, 'person': 1, 'still': 1, 'never': 6, 'telling': 1, 'around': 2, 'got': 5, 'call': 1, 'sure': 1, 'you': 6, 'laughing': 1, 'some': 1, 'crazy': 1, 'without': 1, 'deal': 1, 'anything': 1, 'had': 1, 'and': 2, 'elaborate': 1, 'words': 1, 'nothing': 1, 'vile': 1, 'saint': 1, 'villian': 1, 'up': 3, 'that': 2, 'things': 4, 'right': 1, 'my': 1, 'much': 1, 'crying': 2, 'in': 2, 'let': 1, 'stacksby': 1}\n"
     ]
    }
   ],
   "source": [
    "def build_frequency_table(corpus):\n",
    "    frequency_table = {}\n",
    "    for key in corpus:\n",
    "        if key not in frequency_table:\n",
    "            count = 0\n",
    "            count += 1\n",
    "            frequency_table[key] = count\n",
    "        else:\n",
    "            count += 1\n",
    "            frequency_table.update({key : count})\n",
    "    return frequency_table        \n",
    "     \n",
    "#print(build_frequency_table(prepare_text(murder_note)))    "
   ]
  },
  {
   "cell_type": "markdown",
   "metadata": {},
   "source": [
    "## The Second Indicator: Favorite Words\n",
    "\n",
    "Use `build_frequency_table` with the prepared text to create a frequency table that counts how frequently all the words in each text sample appears. Call these functions in the constructor for `TextSample` and assign the word frequency table to a value called `self.word_count_frequency`."
   ]
  },
  {
   "cell_type": "markdown",
   "metadata": {},
   "source": [
    "## The Third Indicator: N-Grams\n",
    "\n",
    "An <a href='https://en.wikipedia.org/wiki/N-gram' target=\"_blank\">n-gram</a> is a text analysis technique used for pattern recognition and applicable throughout lingusitics. We're going to use n-grams to find who uses similar word-pairs to the murderer, and we think it's going to make our evidence strong enough to conclusively find the killer.\n",
    "\n",
    "Create a function called `ngram_creator` that takes a parameter `text_list`, a treated in-order list of the words in a text sample. `ngram_creator` should return a list of all adjacent pairs of words, styled as strings with a space in the center.\n",
    "\n",
    "For instance, calling `ngram_creator` with the input `['what', 'in', 'the', 'world', 'is', 'going', 'on']`\n",
    "Should produce the output `['what in', 'in the', 'the world', 'world is', 'is going', 'going on']`.\n",
    "\n",
    "These are two-word n-grams."
   ]
  },
  {
   "cell_type": "code",
   "execution_count": 15,
   "metadata": {},
   "outputs": [
    {
     "name": "stdout",
     "output_type": "stream",
     "text": [
      "['you may', 'may call', 'call me', 'me heartless', 'heartless a', 'a killer', 'killer a', 'a monster', 'monster a', 'a murderer', 'murderer but', \"but i'm\", \"i'm still\", 'still nothing', 'nothing compared', 'compared to', 'to the', 'the villian', 'villian that', 'that jay', 'jay was', 'was this', 'this whole', 'whole contest', 'contest was', 'was a', 'a sham', 'sham an', 'an elaborate', 'elaborate plot', 'plot to', 'to shame', 'shame the', 'the contestants', 'contestants and', 'and feed', \"feed jay's\", \"jay's massive\", 'massive massive', 'massive ego', 'ego sure', 'sure you', 'you think', 'think you', 'you know', 'know him', \"him you've\", \"you've seen\", 'seen him', 'him smiling', 'smiling for', 'for the', 'the cameras', 'cameras laughing', 'laughing joking', 'joking telling', 'telling stories', 'stories waving', 'waving his', 'his money', 'money around', 'around like', 'like a', 'a prop', 'prop but', 'but off', 'off camera', 'camera he', 'he was', 'was a', 'a sinister', 'sinister beast', 'beast a', 'a cruel', 'cruel cruel', 'cruel taskmaster', 'taskmaster he', 'he treated', 'treated all', 'all of', 'of us', 'us like', 'like slaves', 'slaves like', 'like cattle', 'cattle like', 'like animals', 'animals do', 'do you', 'you remember', 'remember lindsay', 'lindsay she', 'she was', 'was the', 'the first', 'first to', 'to go', 'go he', 'he called', 'called her', 'her such', 'such horrible', 'horrible things', 'things that', 'that she', 'she cried', 'cried all', 'all night', 'night keeping', 'keeping up', 'up all', 'all up', 'up crying', 'crying crying', 'crying and', 'and more', 'more crying', 'crying he', 'he broke', 'broke her', 'her with', 'with his', 'his words', 'words i', 'i miss', 'miss my', 'my former', 'former cast', 'cast members', 'members all', 'all of', 'of them', 'them very', 'very much', 'much and', 'and we', 'we had', 'had to', 'to live', 'live with', 'with him', 'him live', 'live in', 'in his', 'his home', 'home live', 'live in', 'in his', 'his power', 'power deal', 'deal with', 'with his', 'his crazy', 'crazy demands', 'demands and', 'and for', 'for what', 'what did', 'did you', 'you know', 'know that', 'that the', 'the prize', \"prize isn't\", \"isn't real\", 'real he', 'he never', 'never intended', 'intended to', 'to marry', 'marry one', 'one of', 'of us', 'us the', 'the carrot', 'carrot on', 'on the', 'the stick', 'stick was', 'was gone', 'gone all', 'all that', 'that was', 'was left', 'left was', 'was stick', 'stick he', 'he told', 'told us', 'us last', 'last night', 'night that', 'that we', 'we were', 'were all', 'all a', 'a terrible', 'terrible terrible', 'terrible disappointment', 'disappointment and', 'and none', 'none of', 'of us', 'us would', 'would ever', 'ever amount', 'amount to', 'to anything', 'anything and', 'and that', 'that regardless', 'regardless of', 'of who', 'who won', 'won the', 'the contest', 'contest he', 'he would', 'would never', 'never speak', 'speak to', 'to any', 'any of', 'of us', 'us again', \"again it's\", \"it's definitely\", 'definitely the', 'the things', 'things like', 'like this', 'this you', 'you can', 'can feel', 'feel in', 'in your', 'your gut', 'gut how', 'how wrong', 'wrong he', 'he is', 'is well', 'well i', 'i showed', 'showed him', 'him he', 'he got', 'got what', 'what he', 'he deserved', 'deserved all', 'all right', 'right i', 'i showed', 'showed him', 'him i', 'i showed', 'showed him', 'him the', 'the person', 'person i', 'i am', 'am i', \"i wasn't\", \"wasn't going\", 'going to', 'to be', 'be pushed', 'pushed around', 'around any', 'any longer', 'longer and', 'and i', \"i wasn't\", \"wasn't going\", 'going to', 'to let', 'let him', 'him go', 'go on', 'on pretending', 'pretending that', 'that he', 'he was', 'was some', 'some saint', 'saint when', 'when all', 'all he', 'he was', 'was was', 'was a', 'a sick', 'sick sick', 'sick twisted', 'twisted man', 'man who', 'who deserved', 'deserved every', 'every bit', 'bit of', 'of what', 'what he', 'he got', 'got the', 'the fans', 'fans need', 'need to', 'to know', 'know jay', 'jay stacksby', 'stacksby is', 'is a', 'a vile', 'vile amalgamation', 'amalgamation of', 'of all', 'all things', 'things evil', 'evil and', 'and bad', 'bad and', 'and the', 'the world', 'world is', 'is a', 'a better', 'better place', 'place without', 'without him']\n"
     ]
    }
   ],
   "source": [
    "def ngram_creator(text_list):\n",
    "    ngram_list = []\n",
    "    for i in range(len(text_list)- 1):\n",
    "        ngram_list.append(text_list[i] + ' ' + text_list[i + 1])\n",
    "    return ngram_list    \n",
    "\n",
    "#print(ngram_creator(prepare_text(murder_note)))"
   ]
  },
  {
   "cell_type": "markdown",
   "metadata": {},
   "source": [
    "Use `ngram_creator` along with the prepared text to create a list of all the two-word ngrams in each `TextSample`. Use `build_frequency_table` to tabulate the frequency of each ngram. In the constructor for `TextSample` save this frequency table as `self.ngram_frequency`."
   ]
  },
  {
   "cell_type": "markdown",
   "metadata": {},
   "source": [
    "## Comparing Two Frequency Tables\n",
    "\n",
    "We want to know how similar two frequency tables are, let's write a function that computes the comparison between two frequency tables and scores them based on similarity.\n",
    "\n",
    "Write a function called `frequency_comparison` that takes two parameters, `table1` and `table2`. It should define two local variables, `appearances` and `mutual_appearances`. \n",
    "\n",
    "Iterate through `table1`'s keys and check if `table2` has the same key defined. If it is, compare the two values for the key -- the smaller value should get added to `mutual_appearances` and the larger should get added to `appearances`. If the key doesn't exist in `table2` the value for the key in `table1` should be added to `appearances`.\n",
    "\n",
    "Remember afterwards to iterate through all of `table2`'s keys that aren't in `table1` and add those to `appearances` as well.\n",
    "\n",
    "Return a frequency comparison score equal to the mutual appearances divided by the total appearances."
   ]
  },
  {
   "cell_type": "code",
   "execution_count": 62,
   "metadata": {},
   "outputs": [],
   "source": [
    "def frequency_comparison(table1, table2):\n",
    "    appearances = 0\n",
    "    mutual_appearances = 0\n",
    "    for key, value in table1.items():\n",
    "        if key in set(table2.keys()): \n",
    "            if table1[key] >= table2[key]:\n",
    "                mutual_appearances += table2[key]\n",
    "                appearances += table1[key] \n",
    "            else:\n",
    "                mutual_appearances += table1[key]\n",
    "                appearances += table2[key]\n",
    "        else:\n",
    "            appearances += table1[key]\n",
    "            \n",
    "    for key, value in table2.items(): \n",
    "        if key not in set(table1.keys()):\n",
    "            appearances += table2[key]\n",
    "\n",
    "    return round(mutual_appearances/appearances, 2)            \n",
    "                "
   ]
  },
  {
   "cell_type": "markdown",
   "metadata": {},
   "source": [
    "## Comparing Average Sentence Length\n",
    "\n",
    "In order to calculate the change between the average sentence lengths of two `TextSamples` we're going to use the formula for the percent difference.\n",
    "\n",
    "Write a function called `percent_difference` that returns the percent difference as calculated from the following formula:\n",
    "\n",
    "$$\\frac{|\\ value1 - value2\\ |}{\\frac{value1 + value2}{2}}$$\n",
    "\n",
    "In the numerator is the absolute value (use `abs()`) of the two values subtracted from each other. In the denominator is the average of the two values (value1 + value2 divided by two)."
   ]
  },
  {
   "cell_type": "code",
   "execution_count": 50,
   "metadata": {},
   "outputs": [],
   "source": [
    "def percent_difference(value1, value2):\n",
    "    numerator = abs(value1 - value2)\n",
    "    denominator = (value1 + value2)/2\n",
    "    \n",
    "    return numerator/denominator"
   ]
  },
  {
   "cell_type": "markdown",
   "metadata": {},
   "source": [
    "## Scoring Similarity with All Three Indicators\n",
    "\n",
    "We want to figure out who did it, so let's use all three of the indicators we built to score text similarity. Define a function `find_text_similarity` that takes two `TextSample` arguments and returns a float between 0 and 1 where 0 means completely different and 1 means the same exact sample. You can evaluate the similarity by the following criteria:\n",
    "\n",
    "- Calculate the percent difference of their average sentence length using `percent_difference`. Save that into a variable called `sentence_length_difference`. Since we want to find how _similar_ the two passages are calculate the inverse of `sentence_length_difference` by using the formula `abs(1 - sentence_length_difference)`. Save that into a variable called `sentence_length_similarity`.\n",
    "- Calculate the difference between their word usage using `frequency_comparison` on both `TextSample`'s `word_count_frequency` attributes. Save that into a variable called `word_count_similarity`.\n",
    "- Calculate the difference between their two-word ngram using `frequency_table` on both `TextSample`'s `ngram_frequency` attributes. Save that into a variable called `ngram_similarity`.\n",
    "- Add all three similarities together and divide by 3."
   ]
  },
  {
   "cell_type": "code",
   "execution_count": 76,
   "metadata": {},
   "outputs": [],
   "source": [
    "def find_text_similarity(text1, text2):\n",
    "    sentence_length_difference =  percent_difference(get_average_sentence_length(text1), \n",
    "                                                     get_average_sentence_length(text2))\n",
    "    sentence_length_similarity = abs(1 - sentence_length_difference)\n",
    "    word_count_similarity = frequency_comparison(build_frequency_table(prepare_text(text1)), \n",
    "                                                 build_frequency_table(prepare_text(text2)))\n",
    "    ngram_similarity = frequency_comparison(build_frequency_table(ngram_creator(prepare_text(text1))), \n",
    "                                            build_frequency_table(ngram_creator(prepare_text(text2))))\n",
    "    sum_similarity = (sentence_length_similarity + word_count_similarity + ngram_similarity)/ 3\n",
    "    \n",
    "    return sum_similarity\n"
   ]
  },
  {
   "cell_type": "markdown",
   "metadata": {},
   "source": [
    "## Rendering the Results\n",
    "\n",
    "We want to print out the results in a way that we can read! For each contestant on _A Brand New Jay_ print out the following:\n",
    "\n",
    "- Their name\n",
    "- Their similarity score to the murder letter"
   ]
  },
  {
   "cell_type": "code",
   "execution_count": 90,
   "metadata": {
    "scrolled": false
   },
   "outputs": [
    {
     "name": "stdout",
     "output_type": "stream",
     "text": [
      "Suspect : Myrtle Beech \n",
      "Similarity_Score : 0.0976190476190476\n",
      "\n",
      "Suspect: Gregg T. Fishy \n",
      "Score similarity: 0.20523809523809525\n",
      "\n",
      "Suspect : Lily Trebuchet \n",
      "Similarity_Score : 0.28054054054054056\n"
     ]
    }
   ],
   "source": [
    "print('Suspect : Myrtle Beech \\nSimilarity_Score : {}'.format(find_text_similarity(myrtle_beech_intro, murder_note)))\n",
    "\n",
    "print(\"\\nSuspect: Gregg T. Fishy \\nScore similarity: {}\".format(find_text_similarity(gregg_t_fishy_intro, murder_note)))\n",
    "\n",
    "print('\\nSuspect : Lily Trebuchet \\nSimilarity_Score : {}'.format(find_text_similarity(lily_trebuchet_intro, murder_note)))"
   ]
  },
  {
   "cell_type": "markdown",
   "metadata": {},
   "source": [
    "# Who Dunnit?\n",
    "\n",
    "In the cell below, print the name of the person who killed Jay Stacksby."
   ]
  },
  {
   "cell_type": "code",
   "execution_count": 92,
   "metadata": {},
   "outputs": [
    {
     "name": "stdout",
     "output_type": "stream",
     "text": [
      "The Murderer is ...  Lily Trebuchet\n"
     ]
    }
   ],
   "source": [
    "Comparison = murder_note\n",
    "Texts = {\"Myrtle Beech\": myrtle_beech_intro, \"Lily Trebuchet\": lily_trebuchet_intro, \"Gregg T. Fishy\": gregg_t_fishy_intro}\n",
    "\n",
    "def Who_Dunnit():\n",
    "    score = 0\n",
    "    murderer = ''\n",
    "    for text in Texts.keys():\n",
    "        if score < find_text_similarity(Texts[text], Comparison):\n",
    "            murderer = text\n",
    "    print('The Murderer is ...  ' + murderer)\n",
    "\n",
    "Who_Dunnit()    "
   ]
  },
  {
   "cell_type": "code",
   "execution_count": null,
   "metadata": {},
   "outputs": [],
   "source": [
    "LILY TREBUCHET"
   ]
  }
 ],
 "metadata": {
  "kernelspec": {
   "display_name": "Python 3",
   "language": "python",
   "name": "python3"
  },
  "language_info": {
   "codemirror_mode": {
    "name": "ipython",
    "version": 3
   },
   "file_extension": ".py",
   "mimetype": "text/x-python",
   "name": "python",
   "nbconvert_exporter": "python",
   "pygments_lexer": "ipython3",
   "version": "3.5.2"
  }
 },
 "nbformat": 4,
 "nbformat_minor": 2
}
